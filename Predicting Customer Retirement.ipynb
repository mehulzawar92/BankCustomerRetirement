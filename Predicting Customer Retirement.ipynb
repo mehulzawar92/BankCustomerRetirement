{
 "cells": [
  {
   "cell_type": "markdown",
   "metadata": {},
   "source": [
    "# Step 0 - Importing Libraries"
   ]
  },
  {
   "cell_type": "code",
   "execution_count": 1,
   "metadata": {},
   "outputs": [],
   "source": [
    "import pandas as pd\n",
    "import numpy as np\n",
    "import matplotlib.pyplot as plt\n",
    "import seaborn as sns\n",
    "import os"
   ]
  },
  {
   "cell_type": "markdown",
   "metadata": {},
   "source": [
    "# Step 1 - Loading dataset"
   ]
  },
  {
   "cell_type": "code",
   "execution_count": 2,
   "metadata": {},
   "outputs": [],
   "source": [
    "training_set = pd.read_csv(\"Bank_Customer_retirement.csv\")"
   ]
  },
  {
   "cell_type": "code",
   "execution_count": 3,
   "metadata": {},
   "outputs": [
    {
     "data": {
      "text/html": [
       "<div>\n",
       "<style scoped>\n",
       "    .dataframe tbody tr th:only-of-type {\n",
       "        vertical-align: middle;\n",
       "    }\n",
       "\n",
       "    .dataframe tbody tr th {\n",
       "        vertical-align: top;\n",
       "    }\n",
       "\n",
       "    .dataframe thead th {\n",
       "        text-align: right;\n",
       "    }\n",
       "</style>\n",
       "<table border=\"1\" class=\"dataframe\">\n",
       "  <thead>\n",
       "    <tr style=\"text-align: right;\">\n",
       "      <th></th>\n",
       "      <th>Customer ID</th>\n",
       "      <th>Age</th>\n",
       "      <th>401K Savings</th>\n",
       "      <th>Retire</th>\n",
       "    </tr>\n",
       "  </thead>\n",
       "  <tbody>\n",
       "    <tr>\n",
       "      <td>0</td>\n",
       "      <td>0</td>\n",
       "      <td>39.180417</td>\n",
       "      <td>322349.8740</td>\n",
       "      <td>0</td>\n",
       "    </tr>\n",
       "    <tr>\n",
       "      <td>1</td>\n",
       "      <td>1</td>\n",
       "      <td>56.101686</td>\n",
       "      <td>768671.5740</td>\n",
       "      <td>1</td>\n",
       "    </tr>\n",
       "    <tr>\n",
       "      <td>2</td>\n",
       "      <td>2</td>\n",
       "      <td>57.023043</td>\n",
       "      <td>821505.4718</td>\n",
       "      <td>1</td>\n",
       "    </tr>\n",
       "    <tr>\n",
       "      <td>3</td>\n",
       "      <td>3</td>\n",
       "      <td>43.711358</td>\n",
       "      <td>494187.4850</td>\n",
       "      <td>0</td>\n",
       "    </tr>\n",
       "    <tr>\n",
       "      <td>4</td>\n",
       "      <td>4</td>\n",
       "      <td>54.728823</td>\n",
       "      <td>691435.7723</td>\n",
       "      <td>1</td>\n",
       "    </tr>\n",
       "  </tbody>\n",
       "</table>\n",
       "</div>"
      ],
      "text/plain": [
       "   Customer ID        Age  401K Savings  Retire\n",
       "0            0  39.180417   322349.8740       0\n",
       "1            1  56.101686   768671.5740       1\n",
       "2            2  57.023043   821505.4718       1\n",
       "3            3  43.711358   494187.4850       0\n",
       "4            4  54.728823   691435.7723       1"
      ]
     },
     "execution_count": 3,
     "metadata": {},
     "output_type": "execute_result"
    }
   ],
   "source": [
    "training_set.head()"
   ]
  },
  {
   "cell_type": "code",
   "execution_count": 4,
   "metadata": {},
   "outputs": [
    {
     "data": {
      "text/html": [
       "<div>\n",
       "<style scoped>\n",
       "    .dataframe tbody tr th:only-of-type {\n",
       "        vertical-align: middle;\n",
       "    }\n",
       "\n",
       "    .dataframe tbody tr th {\n",
       "        vertical-align: top;\n",
       "    }\n",
       "\n",
       "    .dataframe thead th {\n",
       "        text-align: right;\n",
       "    }\n",
       "</style>\n",
       "<table border=\"1\" class=\"dataframe\">\n",
       "  <thead>\n",
       "    <tr style=\"text-align: right;\">\n",
       "      <th></th>\n",
       "      <th>Customer ID</th>\n",
       "      <th>Age</th>\n",
       "      <th>401K Savings</th>\n",
       "      <th>Retire</th>\n",
       "    </tr>\n",
       "  </thead>\n",
       "  <tbody>\n",
       "    <tr>\n",
       "      <td>495</td>\n",
       "      <td>495</td>\n",
       "      <td>46.678128</td>\n",
       "      <td>704243.0776</td>\n",
       "      <td>1</td>\n",
       "    </tr>\n",
       "    <tr>\n",
       "      <td>496</td>\n",
       "      <td>496</td>\n",
       "      <td>43.545007</td>\n",
       "      <td>483175.9998</td>\n",
       "      <td>0</td>\n",
       "    </tr>\n",
       "    <tr>\n",
       "      <td>497</td>\n",
       "      <td>497</td>\n",
       "      <td>46.476724</td>\n",
       "      <td>354919.1987</td>\n",
       "      <td>0</td>\n",
       "    </tr>\n",
       "    <tr>\n",
       "      <td>498</td>\n",
       "      <td>498</td>\n",
       "      <td>50.903631</td>\n",
       "      <td>639789.9219</td>\n",
       "      <td>1</td>\n",
       "    </tr>\n",
       "    <tr>\n",
       "      <td>499</td>\n",
       "      <td>499</td>\n",
       "      <td>38.590586</td>\n",
       "      <td>491310.0096</td>\n",
       "      <td>0</td>\n",
       "    </tr>\n",
       "  </tbody>\n",
       "</table>\n",
       "</div>"
      ],
      "text/plain": [
       "     Customer ID        Age  401K Savings  Retire\n",
       "495          495  46.678128   704243.0776       1\n",
       "496          496  43.545007   483175.9998       0\n",
       "497          497  46.476724   354919.1987       0\n",
       "498          498  50.903631   639789.9219       1\n",
       "499          499  38.590586   491310.0096       0"
      ]
     },
     "execution_count": 4,
     "metadata": {},
     "output_type": "execute_result"
    }
   ],
   "source": [
    "training_set.tail()"
   ]
  },
  {
   "cell_type": "code",
   "execution_count": 5,
   "metadata": {},
   "outputs": [
    {
     "data": {
      "text/plain": [
       "(500, 4)"
      ]
     },
     "execution_count": 5,
     "metadata": {},
     "output_type": "execute_result"
    }
   ],
   "source": [
    "training_set.shape"
   ]
  },
  {
   "cell_type": "markdown",
   "metadata": {},
   "source": [
    "# Step 2 - Visualizing the data"
   ]
  },
  {
   "cell_type": "code",
   "execution_count": 6,
   "metadata": {},
   "outputs": [
    {
     "data": {
      "text/plain": [
       "<seaborn.axisgrid.PairGrid at 0x28d0f1ac088>"
      ]
     },
     "execution_count": 6,
     "metadata": {},
     "output_type": "execute_result"
    },
    {
     "data": {
      "image/png": "[encoded data removed]",
      "text/plain": [
       "<Figure size 402.375x360 with 6 Axes>"
      ]
     },
     "metadata": {
      "needs_background": "light"
     },
     "output_type": "display_data"
    }
   ],
   "source": [
    "sns.pairplot(data = training_set, hue = 'Retire', vars = ['Age', '401K Savings'])"
   ]
  },
  {
   "cell_type": "code",
   "execution_count": 7,
   "metadata": {},
   "outputs": [
    {
     "data": {
      "text/plain": [
       "<matplotlib.axes._subplots.AxesSubplot at 0x28d0f55e588>"
      ]
     },
     "execution_count": 7,
     "metadata": {},
     "output_type": "execute_result"
    },
    {
     "data": {
      "image/png": "[encoded data removed]",
      "text/plain": [
       "<Figure size 432x288 with 1 Axes>"
      ]
     },
     "metadata": {
      "needs_background": "light"
     },
     "output_type": "display_data"
    }
   ],
   "source": [
    "sns.countplot(x = 'Retire', data = training_set)"
   ]
  },
  {
   "cell_type": "markdown",
   "metadata": {},
   "source": [
    "# Step 3 - Model Training"
   ]
  },
  {
   "cell_type": "code",
   "execution_count": 8,
   "metadata": {},
   "outputs": [],
   "source": [
    "training_set.drop('Customer ID', axis = 1, inplace = True)"
   ]
  },
  {
   "cell_type": "code",
   "execution_count": 9,
   "metadata": {},
   "outputs": [
    {
     "data": {
      "text/html": [
       "<div>\n",
       "<style scoped>\n",
       "    .dataframe tbody tr th:only-of-type {\n",
       "        vertical-align: middle;\n",
       "    }\n",
       "\n",
       "    .dataframe tbody tr th {\n",
       "        vertical-align: top;\n",
       "    }\n",
       "\n",
       "    .dataframe thead th {\n",
       "        text-align: right;\n",
       "    }\n",
       "</style>\n",
       "<table border=\"1\" class=\"dataframe\">\n",
       "  <thead>\n",
       "    <tr style=\"text-align: right;\">\n",
       "      <th></th>\n",
       "      <th>Age</th>\n",
       "      <th>401K Savings</th>\n",
       "      <th>Retire</th>\n",
       "    </tr>\n",
       "  </thead>\n",
       "  <tbody>\n",
       "    <tr>\n",
       "      <td>0</td>\n",
       "      <td>39.180417</td>\n",
       "      <td>322349.8740</td>\n",
       "      <td>0</td>\n",
       "    </tr>\n",
       "    <tr>\n",
       "      <td>1</td>\n",
       "      <td>56.101686</td>\n",
       "      <td>768671.5740</td>\n",
       "      <td>1</td>\n",
       "    </tr>\n",
       "    <tr>\n",
       "      <td>2</td>\n",
       "      <td>57.023043</td>\n",
       "      <td>821505.4718</td>\n",
       "      <td>1</td>\n",
       "    </tr>\n",
       "    <tr>\n",
       "      <td>3</td>\n",
       "      <td>43.711358</td>\n",
       "      <td>494187.4850</td>\n",
       "      <td>0</td>\n",
       "    </tr>\n",
       "    <tr>\n",
       "      <td>4</td>\n",
       "      <td>54.728823</td>\n",
       "      <td>691435.7723</td>\n",
       "      <td>1</td>\n",
       "    </tr>\n",
       "    <tr>\n",
       "      <td>...</td>\n",
       "      <td>...</td>\n",
       "      <td>...</td>\n",
       "      <td>...</td>\n",
       "    </tr>\n",
       "    <tr>\n",
       "      <td>495</td>\n",
       "      <td>46.678128</td>\n",
       "      <td>704243.0776</td>\n",
       "      <td>1</td>\n",
       "    </tr>\n",
       "    <tr>\n",
       "      <td>496</td>\n",
       "      <td>43.545007</td>\n",
       "      <td>483175.9998</td>\n",
       "      <td>0</td>\n",
       "    </tr>\n",
       "    <tr>\n",
       "      <td>497</td>\n",
       "      <td>46.476724</td>\n",
       "      <td>354919.1987</td>\n",
       "      <td>0</td>\n",
       "    </tr>\n",
       "    <tr>\n",
       "      <td>498</td>\n",
       "      <td>50.903631</td>\n",
       "      <td>639789.9219</td>\n",
       "      <td>1</td>\n",
       "    </tr>\n",
       "    <tr>\n",
       "      <td>499</td>\n",
       "      <td>38.590586</td>\n",
       "      <td>491310.0096</td>\n",
       "      <td>0</td>\n",
       "    </tr>\n",
       "  </tbody>\n",
       "</table>\n",
       "<p>500 rows × 3 columns</p>\n",
       "</div>"
      ],
      "text/plain": [
       "           Age  401K Savings  Retire\n",
       "0    39.180417   322349.8740       0\n",
       "1    56.101686   768671.5740       1\n",
       "2    57.023043   821505.4718       1\n",
       "3    43.711358   494187.4850       0\n",
       "4    54.728823   691435.7723       1\n",
       "..         ...           ...     ...\n",
       "495  46.678128   704243.0776       1\n",
       "496  43.545007   483175.9998       0\n",
       "497  46.476724   354919.1987       0\n",
       "498  50.903631   639789.9219       1\n",
       "499  38.590586   491310.0096       0\n",
       "\n",
       "[500 rows x 3 columns]"
      ]
     },
     "execution_count": 9,
     "metadata": {},
     "output_type": "execute_result"
    }
   ],
   "source": [
    "training_set"
   ]
  },
  {
   "cell_type": "code",
   "execution_count": 10,
   "metadata": {},
   "outputs": [],
   "source": [
    "X = training_set.drop('Retire', axis = 1).values"
   ]
  },
  {
   "cell_type": "code",
   "execution_count": 11,
   "metadata": {},
   "outputs": [
    {
     "data": {
      "text/plain": [
       "array([[3.91804173e+01, 3.22349874e+05],\n",
       "       [5.61016860e+01, 7.68671574e+05],\n",
       "       [5.70230427e+01, 8.21505472e+05],\n",
       "       [4.37113581e+01, 4.94187485e+05],\n",
       "       [5.47288232e+01, 6.91435772e+05],\n",
       "       [5.04997891e+01, 7.42398907e+05],\n",
       "       [3.95733022e+01, 5.78650316e+05],\n",
       "       [5.51593087e+01, 5.33821201e+05],\n",
       "       [3.07912714e+01, 4.59592408e+05],\n",
       "       [4.04560728e+01, 3.96800251e+05],\n",
       "       [3.38911974e+01, 2.72808272e+05],\n",
       "       [4.27544162e+01, 3.77042246e+05],\n",
       "       [4.42249802e+01, 4.82773224e+05],\n",
       "       [4.74990645e+01, 6.28103678e+05],\n",
       "       [6.28624108e+01, 7.71170284e+05],\n",
       "       [5.63314358e+01, 5.31736742e+05],\n",
       "       [4.31669950e+01, 4.75505760e+05],\n",
       "       [6.37855439e+01, 6.69249971e+05],\n",
       "       [4.57904008e+01, 4.88283996e+05],\n",
       "       [4.90707308e+01, 6.66179034e+05],\n",
       "       [4.49290770e+01, 6.67652074e+05],\n",
       "       [4.83379384e+01, 5.76300132e+05],\n",
       "       [5.12910441e+01, 5.84324079e+05],\n",
       "       [4.70737861e+01, 6.76035723e+05],\n",
       "       [4.77597585e+01, 5.38416345e+05],\n",
       "       [4.96926983e+01, 7.27503276e+05],\n",
       "       [3.80404142e+01, 3.82831370e+05],\n",
       "       [4.80212941e+01, 7.59955470e+05],\n",
       "       [3.48599990e+01, 3.49137707e+05],\n",
       "       [4.04035374e+01, 4.39074522e+05],\n",
       "       [3.67808995e+01, 5.54553824e+05],\n",
       "       [5.99052700e+01, 8.07629853e+05],\n",
       "       [4.49558906e+01, 5.16350175e+05],\n",
       "       [3.83691703e+01, 3.98136045e+05],\n",
       "       [4.95451190e+01, 6.43383041e+05],\n",
       "       [5.60195764e+01, 5.71676535e+05],\n",
       "       [4.18780628e+01, 3.15547001e+05],\n",
       "       [6.21358992e+01, 9.80549656e+05],\n",
       "       [4.46494553e+01, 6.80388386e+05],\n",
       "       [5.05693250e+01, 6.27554790e+05],\n",
       "       [5.63653948e+01, 6.27005391e+05],\n",
       "       [4.55000232e+01, 1.96467120e+05],\n",
       "       [4.85057745e+01, 5.63618311e+05],\n",
       "       [3.53582940e+01, 2.09517779e+05],\n",
       "       [4.17743717e+01, 6.26096814e+05],\n",
       "       [5.07543325e+01, 7.57720635e+05],\n",
       "       [4.51892867e+01, 5.36044001e+05],\n",
       "       [4.98903875e+01, 4.25910524e+05],\n",
       "       [3.71678789e+01, 2.53541277e+05],\n",
       "       [3.18260812e+01, 5.15111884e+05],\n",
       "       [5.43839640e+01, 6.18691794e+05],\n",
       "       [3.39791146e+01, 2.41484388e+05],\n",
       "       [5.35285053e+01, 7.28048805e+05],\n",
       "       [3.68273249e+01, 2.73853068e+05],\n",
       "       [3.98814256e+01, 4.69424327e+05],\n",
       "       [4.85009867e+01, 9.21090683e+05],\n",
       "       [4.62619956e+01, 6.52617550e+05],\n",
       "       [5.58457288e+01, 6.38240658e+05],\n",
       "       [3.43297741e+01, 1.85122801e+05],\n",
       "       [4.83111475e+01, 6.03815840e+05],\n",
       "       [4.59680506e+01, 6.11701684e+05],\n",
       "       [4.50775959e+01, 1.00000000e+06],\n",
       "       [4.33169676e+01, 6.42782072e+05],\n",
       "       [5.33090858e+01, 6.94581327e+05],\n",
       "       [5.60079785e+01, 8.50704588e+05],\n",
       "       [4.58778240e+01, 2.60743979e+05],\n",
       "       [4.81153848e+01, 2.25344025e+05],\n",
       "       [5.31547873e+01, 5.55506701e+05],\n",
       "       [4.48701129e+01, 4.16277262e+05],\n",
       "       [4.82121635e+01, 4.76088320e+05],\n",
       "       [4.71321315e+01, 3.78097442e+05],\n",
       "       [4.58839700e+01, 2.89943749e+05],\n",
       "       [4.66826842e+01, 5.76264677e+05],\n",
       "       [3.38885651e+01, 2.33910260e+05],\n",
       "       [4.46866323e+01, 6.42583867e+05],\n",
       "       [3.71095744e+01, 3.45188836e+05],\n",
       "       [3.81640798e+01, 3.84149321e+05],\n",
       "       [3.58152935e+01, 4.87268757e+05],\n",
       "       [5.85846044e+01, 5.75573240e+05],\n",
       "       [4.21474552e+01, 5.69398833e+05],\n",
       "       [4.11899220e+01, 3.68829660e+05],\n",
       "       [4.98245624e+01, 4.59515989e+05],\n",
       "       [5.01642553e+01, 5.25315937e+05],\n",
       "       [4.49646997e+01, 6.83012737e+05],\n",
       "       [5.10689737e+01, 5.93965157e+05],\n",
       "       [5.68671791e+01, 6.15416153e+05],\n",
       "       [4.39752623e+01, 7.81781643e+05],\n",
       "       [5.59574487e+01, 6.44913863e+05],\n",
       "       [4.87343691e+01, 5.67627072e+05],\n",
       "       [4.23813066e+01, 2.71869482e+05],\n",
       "       [5.27419516e+01, 6.29188309e+05],\n",
       "       [4.28192714e+01, 2.74640338e+05],\n",
       "       [4.77889935e+01, 6.23343264e+05],\n",
       "       [5.35940920e+01, 7.30218523e+05],\n",
       "       [3.75062384e+01, 4.68875030e+05],\n",
       "       [5.36649257e+01, 7.07056164e+05],\n",
       "       [3.18411755e+01, 4.45320992e+05],\n",
       "       [5.60392343e+01, 6.66309471e+05],\n",
       "       [3.66560904e+01, 4.24137666e+05],\n",
       "       [4.36333736e+01, 4.43370805e+05],\n",
       "       [5.53835752e+01, 4.24025559e+05],\n",
       "       [4.37218913e+01, 3.42121568e+05],\n",
       "       [5.43192963e+01, 8.44374281e+05],\n",
       "       [4.50966448e+01, 2.62694238e+05],\n",
       "       [3.16456498e+01, 2.52237738e+05],\n",
       "       [5.39856799e+01, 4.91405838e+05],\n",
       "       [3.58385443e+01, 4.14992938e+05],\n",
       "       [4.85906613e+01, 7.00156038e+05],\n",
       "       [4.34630319e+01, 5.97862029e+05],\n",
       "       [3.99795162e+01, 3.48249457e+05],\n",
       "       [4.57630735e+01, 4.67124927e+05],\n",
       "       [4.67639358e+01, 7.87631993e+05],\n",
       "       [4.75119936e+01, 5.81095162e+05],\n",
       "       [3.13172725e+01, 3.17031636e+05],\n",
       "       [4.12958843e+01, 5.69371853e+05],\n",
       "       [4.39901819e+01, 7.26521895e+05],\n",
       "       [6.21063463e+01, 6.95583436e+05],\n",
       "       [5.10518855e+01, 5.63446818e+05],\n",
       "       [4.47181987e+01, 5.76927941e+05],\n",
       "       [6.10861632e+01, 4.11502142e+05],\n",
       "       [3.81927060e+01, 6.38074512e+05],\n",
       "       [4.88210399e+01, 2.94620168e+05],\n",
       "       [4.37838940e+01, 3.55078494e+05],\n",
       "       [5.44662233e+01, 6.48110795e+05],\n",
       "       [5.79986344e+01, 6.28791949e+05],\n",
       "       [3.97299851e+01, 2.26999006e+05],\n",
       "       [4.13121399e+01, 6.31961248e+05],\n",
       "       [5.74635929e+01, 7.03725737e+05],\n",
       "       [5.40916007e+01, 5.88386713e+05],\n",
       "       [4.92419105e+01, 5.31401448e+05],\n",
       "       [4.53837442e+01, 6.25618784e+05],\n",
       "       [4.08058421e+01, 1.61499281e+05],\n",
       "       [4.86616378e+01, 6.81515870e+05],\n",
       "       [4.15012308e+01, 3.77361895e+05],\n",
       "       [3.78070285e+01, 3.18647306e+05],\n",
       "       [4.73664065e+01, 5.19724061e+05],\n",
       "       [4.34199791e+01, 2.13386735e+05],\n",
       "       [3.82962245e+01, 5.21486975e+05],\n",
       "       [3.76952988e+01, 3.05052185e+05],\n",
       "       [4.42825042e+01, 3.63802714e+05],\n",
       "       [4.17173116e+01, 6.70715990e+05],\n",
       "       [5.23612338e+01, 4.30746435e+05],\n",
       "       [4.74399826e+01, 3.14624322e+05],\n",
       "       [4.16822840e+01, 1.93751420e+05],\n",
       "       [5.03607418e+01, 4.33798386e+05],\n",
       "       [5.59927229e+01, 6.04178601e+05],\n",
       "       [5.30837255e+01, 7.12212224e+05],\n",
       "       [5.28088144e+01, 9.74839801e+05],\n",
       "       [5.62146146e+01, 6.83098829e+05],\n",
       "       [5.50556890e+01, 7.23698940e+05],\n",
       "       [3.62573693e+01, 4.72946931e+05],\n",
       "       [4.35060230e+01, 3.35613824e+05],\n",
       "       [4.61501405e+01, 2.60271664e+05],\n",
       "       [4.79071329e+01, 7.24481817e+05],\n",
       "       [5.07295284e+01, 8.23841444e+05],\n",
       "       [4.83370241e+01, 3.75203990e+05],\n",
       "       [5.06445559e+01, 6.24052693e+05],\n",
       "       [5.03963185e+01, 7.87807992e+05],\n",
       "       [4.39921362e+01, 7.55527207e+05],\n",
       "       [5.72461600e+01, 7.69459150e+05],\n",
       "       [4.52995167e+01, 2.87992930e+05],\n",
       "       [5.72561789e+01, 5.88565438e+05],\n",
       "       [5.69612241e+01, 8.51874401e+05],\n",
       "       [5.33162803e+01, 6.75526751e+05],\n",
       "       [3.84004286e+01, 2.58474490e+05],\n",
       "       [4.29241934e+01, 3.64527625e+05],\n",
       "       [4.11451775e+01, 4.40681544e+05],\n",
       "       [6.29144772e+01, 4.98230502e+05],\n",
       "       [4.19388060e+01, 5.10616978e+05],\n",
       "       [5.84555410e+01, 7.98727584e+05],\n",
       "       [4.01031110e+01, 1.09281635e+05],\n",
       "       [5.36687276e+01, 7.68628333e+05],\n",
       "       [4.71618658e+01, 4.48980073e+05],\n",
       "       [5.10872066e+01, 9.32150682e+05],\n",
       "       [4.68138988e+01, 3.13349549e+05],\n",
       "       [3.89253350e+01, 3.83256156e+05],\n",
       "       [3.17876633e+01, 5.47443754e+05],\n",
       "       [4.14333131e+01, 3.76168477e+05],\n",
       "       [5.17450180e+01, 5.35735525e+05],\n",
       "       [5.17486770e+01, 5.94228129e+05],\n",
       "       [5.81333257e+01, 7.31892941e+05],\n",
       "       [4.15422870e+01, 4.64298006e+05],\n",
       "       [5.51294358e+01, 7.70007078e+05],\n",
       "       [4.97560309e+01, 4.36616009e+05],\n",
       "       [5.21264035e+01, 7.07951866e+05],\n",
       "       [4.21618161e+01, 3.36468200e+05],\n",
       "       [5.19193440e+01, 6.69914752e+05],\n",
       "       [3.84445374e+01, 2.64183082e+05],\n",
       "       [4.58081167e+01, 4.96002212e+05],\n",
       "       [3.69036931e+01, 3.74397165e+05],\n",
       "       [4.72282099e+01, 7.25715157e+05],\n",
       "       [4.65028098e+01, 5.67482149e+05],\n",
       "       [4.49147029e+01, 9.96460546e+05],\n",
       "       [4.13213331e+01, 3.49998887e+05],\n",
       "       [3.77230232e+01, 2.93795644e+05],\n",
       "       [3.62057687e+01, 4.09285769e+05],\n",
       "       [5.70347362e+01, 2.37410947e+05],\n",
       "       [7.00000000e+01, 8.04085972e+05],\n",
       "       [4.77128328e+01, 4.09153655e+05],\n",
       "       [4.66370804e+01, 4.65282705e+05],\n",
       "       [4.18673476e+01, 3.56186311e+05],\n",
       "       [4.87824624e+01, 6.24200236e+05],\n",
       "       [3.71825385e+01, 3.59319870e+05],\n",
       "       [3.12097328e+01, 3.88352119e+05],\n",
       "       [2.99828790e+01, 3.31381939e+05],\n",
       "       [5.84289945e+01, 7.19611410e+05],\n",
       "       [4.65993616e+01, 6.26794876e+05],\n",
       "       [6.41260389e+01, 6.40059074e+05],\n",
       "       [4.87293564e+01, 9.49185625e+05],\n",
       "       [4.88156726e+01, 6.77632871e+05],\n",
       "       [5.81243967e+01, 5.26814771e+05],\n",
       "       [5.05398360e+01, 7.51605609e+05],\n",
       "       [4.13006399e+01, 5.37671664e+05],\n",
       "       [5.53949419e+01, 9.37168111e+05],\n",
       "       [4.95918518e+01, 5.59050476e+05],\n",
       "       [4.98687578e+01, 7.06841073e+05],\n",
       "       [4.73174541e+01, 3.59540415e+05],\n",
       "       [5.65691079e+01, 8.05300668e+05],\n",
       "       [3.96953410e+01, 3.33595434e+05],\n",
       "       [4.74911898e+01, 8.79472598e+05],\n",
       "       [5.97104664e+01, 5.14194490e+05],\n",
       "       [3.85607714e+01, 3.12467434e+05],\n",
       "       [4.50420169e+01, 6.16904684e+05],\n",
       "       [4.36524984e+01, 5.69384480e+05],\n",
       "       [3.43269711e+01, 5.23330619e+05],\n",
       "       [4.41617305e+01, 4.37217770e+05],\n",
       "       [4.83583912e+01, 7.87857862e+05],\n",
       "       [4.88161588e+01, 5.36256511e+05],\n",
       "       [4.85528813e+01, 3.62665393e+05],\n",
       "       [5.38679481e+01, 7.93227068e+05],\n",
       "       [5.32505459e+01, 6.24962078e+05],\n",
       "       [4.47428021e+01, 4.13312176e+05],\n",
       "       [4.47402632e+01, 1.00000000e+01],\n",
       "       [3.46562546e+01, 3.74127604e+05],\n",
       "       [5.51790118e+01, 5.18373667e+05],\n",
       "       [5.40554355e+01, 7.27994470e+05],\n",
       "       [5.94199454e+01, 8.33107492e+05],\n",
       "       [3.66219394e+01, 1.28542674e+05],\n",
       "       [5.18851407e+01, 7.34200772e+05],\n",
       "       [4.13941401e+01, 3.01572281e+05],\n",
       "       [5.59577145e+01, 3.48461119e+05],\n",
       "       [4.19973432e+01, 1.82805182e+05],\n",
       "       [5.17192525e+01, 5.29098057e+05],\n",
       "       [4.66034564e+01, 3.86341796e+05],\n",
       "       [4.11491578e+01, 5.66822377e+05],\n",
       "       [4.71458455e+01, 5.05437762e+05],\n",
       "       [4.52777059e+01, 4.69027179e+05],\n",
       "       [4.56783687e+01, 6.84863431e+05],\n",
       "       [6.04652977e+01, 7.23957947e+05],\n",
       "       [4.67134237e+01, 6.53145614e+05],\n",
       "       [5.74040766e+01, 4.86069148e+05],\n",
       "       [4.10065558e+01, 4.15323638e+05],\n",
       "       [3.43841446e+01, 5.38168183e+05],\n",
       "       [4.51652964e+01, 4.24173266e+05],\n",
       "       [3.48245101e+01, 4.27485823e+05],\n",
       "       [3.93677117e+01, 2.80816801e+05],\n",
       "       [4.36896997e+01, 6.94815948e+05],\n",
       "       [4.56967368e+01, 8.60093307e+05],\n",
       "       [4.60634493e+01, 7.05421985e+05],\n",
       "       [5.87260382e+01, 7.40082030e+05],\n",
       "       [5.67168425e+01, 7.40588728e+05],\n",
       "       [3.63545669e+01, 4.68357017e+05],\n",
       "       [6.12894866e+01, 4.58292687e+05],\n",
       "       [5.45192907e+01, 6.55543074e+05],\n",
       "       [3.38092282e+01, 5.54719685e+05],\n",
       "       [5.42384104e+01, 6.18588402e+05],\n",
       "       [4.13385029e+01, 4.44180490e+05],\n",
       "       [4.44919538e+01, 5.25956414e+05],\n",
       "       [4.51870100e+01, 6.59146040e+05],\n",
       "       [3.82802742e+01, 4.66619193e+05],\n",
       "       [4.25472845e+01, 3.97979438e+05],\n",
       "       [4.86830660e+01, 7.71460579e+05],\n",
       "       [3.70676260e+01, 2.02033850e+05],\n",
       "       [4.31859856e+01, 3.53071494e+05],\n",
       "       [5.03835112e+01, 7.28202747e+05],\n",
       "       [4.79226599e+01, 5.83566169e+05],\n",
       "       [4.21816635e+01, 3.46943365e+05],\n",
       "       [5.70709247e+01, 6.68451660e+05],\n",
       "       [5.43152722e+01, 6.74958685e+05],\n",
       "       [4.23020521e+01, 5.29183115e+05],\n",
       "       [5.13685833e+01, 6.61479538e+05],\n",
       "       [3.59747015e+01, 4.09933744e+05],\n",
       "       [4.42256496e+01, 7.91556549e+05],\n",
       "       [4.23841075e+01, 5.24356946e+05],\n",
       "       [4.18848776e+01, 4.73574658e+05],\n",
       "       [5.47577494e+01, 6.16377878e+05],\n",
       "       [3.87983209e+01, 3.16411223e+05],\n",
       "       [3.92671938e+01, 3.78130231e+05],\n",
       "       [5.28984747e+01, 4.50396866e+05],\n",
       "       [4.93150058e+01, 5.58200559e+05],\n",
       "       [4.09298373e+01, 5.18885549e+05],\n",
       "       [4.19288010e+01, 4.95515815e+05],\n",
       "       [5.62168550e+01, 7.01666032e+05],\n",
       "       [2.50000000e+01, 4.30374497e+05],\n",
       "       [3.62164895e+01, 3.51626255e+05],\n",
       "       [4.66349201e+01, 7.61650986e+05],\n",
       "       [4.55595020e+01, 6.62138039e+05],\n",
       "       [4.54243874e+01, 3.62227675e+05],\n",
       "       [5.81396703e+01, 6.32737721e+05],\n",
       "       [3.54729416e+01, 2.36697163e+05],\n",
       "       [3.72627454e+01, 4.47747673e+05],\n",
       "       [4.89561332e+01, 1.61821907e+05],\n",
       "       [4.67779860e+01, 6.45353642e+05],\n",
       "       [4.81556814e+01, 5.58160377e+05],\n",
       "       [4.56557145e+01, 3.61681290e+05],\n",
       "       [5.04271031e+01, 5.34061920e+05],\n",
       "       [5.44409024e+01, 6.41499689e+05],\n",
       "       [5.00912429e+01, 6.65272341e+05],\n",
       "       [4.83952878e+01, 7.06879036e+05],\n",
       "       [4.81528965e+01, 3.28476669e+05],\n",
       "       [5.22659781e+01, 5.00931138e+05],\n",
       "       [5.05382735e+01, 7.08241938e+05],\n",
       "       [4.48908635e+01, 4.90751589e+05],\n",
       "       [3.95464064e+01, 1.77840609e+05],\n",
       "       [3.34455798e+01, 2.43355630e+05],\n",
       "       [4.67088562e+01, 6.20421220e+05],\n",
       "       [4.81614416e+01, 5.36782410e+05],\n",
       "       [3.89125642e+01, 5.01950177e+05],\n",
       "       [4.36953922e+01, 2.63102971e+05],\n",
       "       [3.96635807e+01, 4.69315277e+05],\n",
       "       [5.58682420e+01, 7.87636562e+05],\n",
       "       [5.45355112e+01, 6.98675439e+05],\n",
       "       [2.59106722e+01, 3.09960458e+05],\n",
       "       [3.79974891e+01, 3.54267923e+05],\n",
       "       [3.63780281e+01, 3.08761798e+05],\n",
       "       [4.06078050e+01, 3.82011987e+05],\n",
       "       [5.55319933e+01, 6.44741387e+05],\n",
       "       [5.05875707e+01, 7.40844312e+05],\n",
       "       [3.91549562e+01, 5.84092835e+05],\n",
       "       [5.46201294e+01, 5.38872595e+05],\n",
       "       [5.58951536e+01, 7.34563718e+05],\n",
       "       [3.81891851e+01, 3.45996457e+05],\n",
       "       [5.70119768e+01, 7.84759186e+05],\n",
       "       [3.79105244e+01, 2.51312840e+05],\n",
       "       [3.28356533e+01, 3.72827989e+05],\n",
       "       [3.60466065e+01, 2.75534786e+05],\n",
       "       [3.22161760e+01, 1.75261774e+05],\n",
       "       [3.79696836e+01, 4.29802166e+05],\n",
       "       [3.49684602e+01, 4.77035059e+05],\n",
       "       [3.72552231e+01, 2.81263665e+05],\n",
       "       [3.97115209e+01, 5.11503213e+05],\n",
       "       [4.08316413e+01, 1.67689017e+05],\n",
       "       [4.23272651e+01, 1.94568635e+05],\n",
       "       [5.03322824e+01, 8.85090900e+05],\n",
       "       [4.42607820e+01, 7.62197296e+05],\n",
       "       [4.50711856e+01, 2.74922291e+05],\n",
       "       [3.17088575e+01, 4.30961689e+05],\n",
       "       [5.60649151e+01, 5.35353159e+05],\n",
       "       [4.88783605e+01, 4.87803217e+05],\n",
       "       [6.38030753e+01, 7.17905364e+05],\n",
       "       [3.58336233e+01, 3.77708778e+05],\n",
       "       [4.17561070e+01, 3.04972073e+05],\n",
       "       [3.72446598e+01, 4.54093343e+05],\n",
       "       [4.38629970e+01, 5.34964048e+05],\n",
       "       [4.53836815e+01, 3.25403361e+05],\n",
       "       [4.09111933e+01, 3.75729988e+05],\n",
       "       [4.43003298e+01, 6.20928854e+05],\n",
       "       [4.67159002e+01, 8.02197149e+05],\n",
       "       [5.33983498e+01, 3.53451043e+05],\n",
       "       [6.14068969e+01, 7.11665057e+05],\n",
       "       [4.66231439e+01, 6.40007145e+05],\n",
       "       [6.10706632e+01, 4.61449473e+05],\n",
       "       [5.23096571e+01, 7.17232815e+05],\n",
       "       [3.96540072e+01, 4.06512470e+05],\n",
       "       [6.42980241e+01, 5.95089711e+05],\n",
       "       [4.79945273e+01, 3.56936306e+05],\n",
       "       [6.73182081e+01, 6.84331339e+05],\n",
       "       [4.82145030e+01, 7.21734720e+05],\n",
       "       [3.17678759e+01, 4.97823529e+05],\n",
       "       [4.01530415e+01, 4.03286273e+05],\n",
       "       [4.74254237e+01, 4.57904205e+05],\n",
       "       [4.62139168e+01, 4.50513311e+05],\n",
       "       [4.21304915e+01, 3.50034668e+05],\n",
       "       [5.57888049e+01, 6.52333127e+05],\n",
       "       [6.25730313e+01, 9.36001561e+05],\n",
       "       [4.06420330e+01, 4.01153956e+05],\n",
       "       [4.15815483e+01, 3.81602651e+05],\n",
       "       [4.35186072e+01, 3.42314311e+05],\n",
       "       [3.93785599e+01, 3.93316934e+05],\n",
       "       [5.20863911e+01, 6.91334402e+05],\n",
       "       [3.89965678e+01, 4.26501709e+05],\n",
       "       [4.56693262e+01, 7.70668795e+05],\n",
       "       [4.87749673e+01, 7.71569084e+05],\n",
       "       [3.90267546e+01, 3.01129974e+05],\n",
       "       [4.73614216e+01, 8.62612841e+05],\n",
       "       [5.42904395e+01, 5.21378299e+05],\n",
       "       [5.30526334e+01, 7.83459409e+05],\n",
       "       [5.83108632e+01, 7.56324865e+05],\n",
       "       [5.00745018e+01, 6.88581051e+05],\n",
       "       [5.20040328e+01, 7.52403298e+05],\n",
       "       [5.59647980e+01, 6.51645844e+05],\n",
       "       [5.36548097e+01, 7.92146958e+05],\n",
       "       [5.29191607e+01, 8.80415592e+05],\n",
       "       [5.12781189e+01, 6.62080162e+05],\n",
       "       [3.35635178e+01, 2.58691981e+05],\n",
       "       [5.63684949e+01, 5.37126850e+05],\n",
       "       [4.99254246e+01, 5.63605320e+05],\n",
       "       [5.37052968e+01, 3.83248631e+05],\n",
       "       [4.68870025e+01, 7.31696316e+05],\n",
       "       [3.43537031e+01, 3.12827647e+05],\n",
       "       [4.25380691e+01, 3.98471713e+05],\n",
       "       [4.28196701e+01, 7.64012924e+05],\n",
       "       [6.30965880e+01, 7.73481755e+05],\n",
       "       [3.79015902e+01, 4.87339360e+05],\n",
       "       [5.36746741e+01, 8.57012590e+05],\n",
       "       [6.01949882e+01, 6.28964373e+05],\n",
       "       [4.17524617e+01, 3.16578211e+05],\n",
       "       [4.73591616e+01, 4.37553369e+05],\n",
       "       [5.18729527e+01, 5.97578315e+05],\n",
       "       [5.15040782e+01, 7.00260034e+05],\n",
       "       [4.94695042e+01, 7.49446953e+05],\n",
       "       [4.92075899e+01, 6.55161720e+05],\n",
       "       [5.68621348e+01, 6.73809799e+05],\n",
       "       [5.04406901e+01, 6.88242363e+05],\n",
       "       [5.28121730e+01, 7.41040427e+05],\n",
       "       [5.14037324e+01, 5.32521841e+05],\n",
       "       [5.14045475e+01, 8.87884701e+05],\n",
       "       [5.12324072e+01, 3.75678034e+05],\n",
       "       [3.97439179e+01, 4.43193395e+05],\n",
       "       [5.75308923e+01, 5.80426007e+05],\n",
       "       [4.16395453e+01, 4.39523275e+05],\n",
       "       [4.73020036e+01, 3.12894132e+05],\n",
       "       [4.32518364e+01, 3.87915656e+05],\n",
       "       [3.42020818e+01, 4.39603463e+05],\n",
       "       [3.67307175e+01, 4.88439908e+05],\n",
       "       [4.68824946e+01, 6.87278153e+05],\n",
       "       [4.57071523e+01, 4.22644158e+05],\n",
       "       [5.65790729e+01, 7.78867765e+05],\n",
       "       [4.97592378e+01, 3.17137453e+05],\n",
       "       [3.10907329e+01, 2.77531964e+05],\n",
       "       [5.14896814e+01, 7.13991449e+05],\n",
       "       [3.83718478e+01, 5.00483350e+05],\n",
       "       [5.52536279e+01, 6.60849291e+05],\n",
       "       [5.14932078e+01, 7.54885459e+05],\n",
       "       [5.01162973e+01, 6.38267897e+05],\n",
       "       [5.18651818e+01, 6.56009993e+05],\n",
       "       [3.91395137e+01, 6.89696199e+05],\n",
       "       [4.19763693e+01, 2.61566368e+05],\n",
       "       [5.65539527e+01, 7.05439872e+05],\n",
       "       [5.37144775e+01, 6.77438931e+05],\n",
       "       [4.32832177e+01, 8.26169756e+05],\n",
       "       [4.33924071e+01, 2.75746779e+05],\n",
       "       [5.46922012e+01, 8.35091531e+05],\n",
       "       [5.78626462e+01, 6.61246897e+05],\n",
       "       [4.11747170e+01, 3.22131641e+05],\n",
       "       [3.92818495e+01, 3.88331736e+05],\n",
       "       [4.11515726e+01, 3.66003914e+05],\n",
       "       [4.14608598e+01, 4.29490712e+05],\n",
       "       [3.81083354e+01, 5.02523755e+05],\n",
       "       [3.81144477e+01, 5.32952680e+05],\n",
       "       [5.20402970e+01, 6.61515776e+05],\n",
       "       [5.26818599e+01, 6.78577503e+05],\n",
       "       [5.70666720e+01, 5.92917225e+05],\n",
       "       [6.29331866e+01, 7.82770094e+05],\n",
       "       [4.26801698e+01, 1.75398478e+05],\n",
       "       [4.86790133e+01, 7.65350286e+05],\n",
       "       [5.29829058e+01, 5.89348439e+05],\n",
       "       [4.39595595e+01, 3.45695150e+05],\n",
       "       [6.17622620e+01, 5.71820466e+05],\n",
       "       [2.68034343e+01, 2.84409888e+05],\n",
       "       [4.95825169e+01, 8.77835406e+05],\n",
       "       [5.33717803e+01, 7.61245633e+05],\n",
       "       [4.68350340e+01, 7.06326481e+05],\n",
       "       [3.42668881e+01, 5.85775582e+05],\n",
       "       [5.96172449e+01, 7.41937195e+05],\n",
       "       [4.10784180e+01, 3.00247867e+05],\n",
       "       [5.43315453e+01, 8.04752067e+05],\n",
       "       [4.09879481e+01, 4.08937164e+05],\n",
       "       [4.15216109e+01, 5.41971211e+05],\n",
       "       [4.82188815e+01, 3.01399855e+05],\n",
       "       [4.88551612e+01, 2.84513102e+05],\n",
       "       [4.13324912e+01, 5.08589004e+05],\n",
       "       [4.45517815e+01, 4.77706950e+05],\n",
       "       [4.56406794e+01, 4.28892623e+05],\n",
       "       [4.33682611e+01, 4.08815129e+05],\n",
       "       [6.02671772e+01, 5.36666473e+05],\n",
       "       [4.88777514e+01, 6.71181140e+05],\n",
       "       [3.43933940e+01, 3.22818916e+05],\n",
       "       [4.58293495e+01, 5.34021378e+05],\n",
       "       [6.00252002e+01, 7.27621525e+05],\n",
       "       [6.47033386e+01, 6.01611932e+05],\n",
       "       [4.41515263e+01, 6.36927033e+05],\n",
       "       [3.96205664e+01, 3.30178628e+05],\n",
       "       [5.40909101e+01, 9.03053677e+05],\n",
       "       [4.80538118e+01, 7.18014224e+05],\n",
       "       [3.42621901e+01, 3.84891523e+05],\n",
       "       [3.83511266e+01, 3.38379322e+04],\n",
       "       [4.17596413e+01, 4.22084864e+05],\n",
       "       [5.22271608e+01, 5.94855517e+05],\n",
       "       [4.78705095e+01, 3.68474892e+05],\n",
       "       [5.72167890e+01, 9.26205923e+05],\n",
       "       [5.68562340e+01, 8.11243386e+05],\n",
       "       [3.67151550e+01, 4.99613616e+05],\n",
       "       [5.06461739e+01, 6.12945003e+05],\n",
       "       [5.09701599e+01, 2.24468400e+05],\n",
       "       [4.66781280e+01, 7.04243078e+05],\n",
       "       [4.35450070e+01, 4.83176000e+05],\n",
       "       [4.64767244e+01, 3.54919199e+05],\n",
       "       [5.09036311e+01, 6.39789922e+05],\n",
       "       [3.85905860e+01, 4.91310010e+05]])"
      ]
     },
     "execution_count": 11,
     "metadata": {},
     "output_type": "execute_result"
    }
   ],
   "source": [
    "X"
   ]
  },
  {
   "cell_type": "code",
   "execution_count": 12,
   "metadata": {},
   "outputs": [],
   "source": [
    "y = training_set['Retire'].values"
   ]
  },
  {
   "cell_type": "code",
   "execution_count": 13,
   "metadata": {},
   "outputs": [
    {
     "data": {
      "text/plain": [
       "array([0, 1, 1, 0, 1, 1, 0, 1, 0, 0, 0, 0, 0, 1, 1, 1, 0, 1, 0, 1, 1, 0,\n",
       "       1, 1, 0, 1, 0, 1, 0, 0, 0, 1, 0, 0, 1, 1, 0, 1, 0, 1, 1, 0, 1, 0,\n",
       "       0, 1, 1, 1, 0, 0, 1, 0, 1, 0, 0, 1, 1, 1, 0, 1, 1, 1, 1, 1, 1, 0,\n",
       "       0, 1, 0, 0, 0, 0, 1, 0, 1, 0, 0, 0, 1, 0, 0, 0, 1, 1, 1, 1, 1, 1,\n",
       "       1, 0, 1, 0, 1, 1, 0, 1, 0, 1, 0, 0, 0, 0, 1, 0, 0, 1, 0, 1, 1, 0,\n",
       "       1, 1, 1, 0, 0, 1, 1, 0, 1, 1, 0, 0, 0, 1, 1, 0, 1, 1, 1, 0, 1, 0,\n",
       "       1, 0, 0, 0, 0, 0, 0, 0, 0, 0, 0, 0, 0, 1, 1, 1, 1, 1, 0, 0, 0, 1,\n",
       "       1, 0, 1, 1, 1, 1, 0, 1, 1, 1, 0, 0, 0, 1, 0, 1, 0, 1, 0, 1, 0, 0,\n",
       "       0, 0, 1, 1, 1, 0, 1, 1, 1, 0, 1, 0, 1, 0, 1, 1, 1, 0, 0, 0, 0, 1,\n",
       "       0, 0, 0, 1, 0, 0, 0, 1, 1, 1, 1, 1, 1, 1, 0, 1, 0, 1, 0, 1, 0, 1,\n",
       "       1, 0, 1, 1, 0, 0, 1, 1, 0, 1, 1, 0, 0, 0, 1, 1, 1, 0, 1, 0, 1, 0,\n",
       "       1, 1, 0, 0, 1, 1, 1, 1, 1, 0, 0, 0, 0, 0, 0, 1, 1, 1, 1, 0, 1, 1,\n",
       "       0, 1, 0, 0, 1, 0, 0, 1, 0, 0, 1, 1, 0, 1, 1, 0, 1, 0, 1, 0, 0, 1,\n",
       "       0, 0, 1, 0, 0, 0, 1, 0, 0, 1, 0, 0, 1, 0, 0, 0, 1, 0, 0, 1, 1, 1,\n",
       "       1, 0, 1, 1, 1, 0, 0, 0, 1, 0, 0, 0, 1, 1, 0, 0, 0, 0, 1, 1, 0, 1,\n",
       "       1, 0, 1, 0, 0, 0, 0, 0, 0, 0, 0, 0, 0, 1, 1, 0, 0, 1, 1, 1, 0, 0,\n",
       "       0, 0, 0, 0, 1, 1, 0, 1, 1, 1, 1, 0, 1, 0, 1, 1, 0, 0, 0, 0, 0, 1,\n",
       "       1, 0, 0, 0, 0, 1, 0, 1, 1, 0, 1, 1, 1, 1, 1, 1, 1, 1, 1, 1, 0, 1,\n",
       "       1, 0, 1, 0, 0, 1, 1, 0, 1, 1, 0, 0, 1, 1, 1, 1, 1, 1, 1, 1, 1, 0,\n",
       "       0, 1, 0, 0, 0, 0, 0, 1, 0, 1, 0, 0, 1, 0, 1, 1, 1, 1, 0, 0, 1, 1,\n",
       "       1, 0, 1, 1, 0, 0, 0, 0, 0, 0, 1, 1, 1, 1, 0, 1, 1, 0, 1, 0, 1, 1,\n",
       "       1, 0, 1, 0, 1, 0, 0, 0, 0, 0, 0, 0, 0, 1, 1, 0, 0, 1, 1, 1, 0, 1,\n",
       "       1, 0, 0, 0, 1, 0, 1, 1, 0, 1, 0, 1, 0, 0, 1, 0], dtype=int64)"
      ]
     },
     "execution_count": 13,
     "metadata": {},
     "output_type": "execute_result"
    }
   ],
   "source": [
    "y"
   ]
  },
  {
   "cell_type": "code",
   "execution_count": 14,
   "metadata": {},
   "outputs": [],
   "source": [
    "from sklearn.model_selection import train_test_split"
   ]
  },
  {
   "cell_type": "code",
   "execution_count": 15,
   "metadata": {},
   "outputs": [],
   "source": [
    "X_train, X_test, y_train, y_test = train_test_split(X, y, test_size = 0.2, random_state = 42)"
   ]
  },
  {
   "cell_type": "code",
   "execution_count": 16,
   "metadata": {},
   "outputs": [],
   "source": [
    "from sklearn.svm import SVC"
   ]
  },
  {
   "cell_type": "code",
   "execution_count": 17,
   "metadata": {},
   "outputs": [],
   "source": [
    "classifier = SVC()"
   ]
  },
  {
   "cell_type": "code",
   "execution_count": 18,
   "metadata": {},
   "outputs": [
    {
     "name": "stderr",
     "output_type": "stream",
     "text": [
      "C:\\Users\\17655\\Anaconda3\\lib\\site-packages\\sklearn\\svm\\base.py:193: FutureWarning: The default value of gamma will change from 'auto' to 'scale' in version 0.22 to account better for unscaled features. Set gamma explicitly to 'auto' or 'scale' to avoid this warning.\n",
      "  \"avoid this warning.\", FutureWarning)\n"
     ]
    },
    {
     "data": {
      "text/plain": [
       "SVC(C=1.0, cache_size=200, class_weight=None, coef0=0.0,\n",
       "    decision_function_shape='ovr', degree=3, gamma='auto_deprecated',\n",
       "    kernel='rbf', max_iter=-1, probability=False, random_state=None,\n",
       "    shrinking=True, tol=0.001, verbose=False)"
      ]
     },
     "execution_count": 18,
     "metadata": {},
     "output_type": "execute_result"
    }
   ],
   "source": [
    "classifier.fit(X_train, y_train)"
   ]
  },
  {
   "cell_type": "markdown",
   "metadata": {},
   "source": [
    "# Step 4 - Evaluating the model"
   ]
  },
  {
   "cell_type": "code",
   "execution_count": 19,
   "metadata": {},
   "outputs": [],
   "source": [
    "from sklearn.metrics import confusion_matrix, classification_report"
   ]
  },
  {
   "cell_type": "code",
   "execution_count": 20,
   "metadata": {},
   "outputs": [],
   "source": [
    "y_pred = classifier.predict(X_test)"
   ]
  },
  {
   "cell_type": "code",
   "execution_count": 21,
   "metadata": {},
   "outputs": [],
   "source": [
    "cm = confusion_matrix(y_test, y_pred)"
   ]
  },
  {
   "cell_type": "code",
   "execution_count": 22,
   "metadata": {},
   "outputs": [
    {
     "data": {
      "text/plain": [
       "<matplotlib.axes._subplots.AxesSubplot at 0x28d100f67c8>"
      ]
     },
     "execution_count": 22,
     "metadata": {},
     "output_type": "execute_result"
    },
    {
     "data": {
      "image/png": "[encoded data removed]",
      "text/plain": [
       "<Figure size 432x288 with 2 Axes>"
      ]
     },
     "metadata": {
      "needs_background": "light"
     },
     "output_type": "display_data"
    }
   ],
   "source": [
    "sns.heatmap(cm, annot = True)"
   ]
  },
  {
   "cell_type": "code",
   "execution_count": 23,
   "metadata": {},
   "outputs": [
    {
     "name": "stdout",
     "output_type": "stream",
     "text": [
      "              precision    recall  f1-score   support\n",
      "\n",
      "           0       0.44      1.00      0.61        44\n",
      "           1       0.00      0.00      0.00        56\n",
      "\n",
      "    accuracy                           0.44       100\n",
      "   macro avg       0.22      0.50      0.31       100\n",
      "weighted avg       0.19      0.44      0.27       100\n",
      "\n"
     ]
    },
    {
     "name": "stderr",
     "output_type": "stream",
     "text": [
      "C:\\Users\\17655\\Anaconda3\\lib\\site-packages\\sklearn\\metrics\\classification.py:1437: UndefinedMetricWarning: Precision and F-score are ill-defined and being set to 0.0 in labels with no predicted samples.\n",
      "  'precision', 'predicted', average, warn_for)\n"
     ]
    }
   ],
   "source": [
    "print(classification_report(y_test, y_pred))"
   ]
  },
  {
   "cell_type": "markdown",
   "metadata": {},
   "source": [
    "# Step 5 - Improving the model"
   ]
  },
  {
   "cell_type": "code",
   "execution_count": 24,
   "metadata": {},
   "outputs": [],
   "source": [
    "# Feature Scaling\n",
    "from sklearn.preprocessing import StandardScaler\n",
    "sc = StandardScaler()\n",
    "X = sc.fit_transform(X)"
   ]
  },
  {
   "cell_type": "code",
   "execution_count": 44,
   "metadata": {},
   "outputs": [
    {
     "data": {
      "text/plain": [
       "<matplotlib.axes._subplots.AxesSubplot at 0x28d11574988>"
      ]
     },
     "execution_count": 44,
     "metadata": {},
     "output_type": "execute_result"
    },
    {
     "data": {
      "image/png": "[encoded data removed]",
      "text/plain": [
       "<Figure size 432x288 with 1 Axes>"
      ]
     },
     "metadata": {
      "needs_background": "light"
     },
     "output_type": "display_data"
    }
   ],
   "source": [
    "sns.scatterplot(data = X)"
   ]
  },
  {
   "cell_type": "code",
   "execution_count": 25,
   "metadata": {},
   "outputs": [],
   "source": [
    "X_train, X_test, y_train, y_test = train_test_split(X, y, test_size = 0.2, random_state = 42)"
   ]
  },
  {
   "cell_type": "code",
   "execution_count": 26,
   "metadata": {},
   "outputs": [
    {
     "name": "stderr",
     "output_type": "stream",
     "text": [
      "C:\\Users\\17655\\Anaconda3\\lib\\site-packages\\sklearn\\svm\\base.py:193: FutureWarning: The default value of gamma will change from 'auto' to 'scale' in version 0.22 to account better for unscaled features. Set gamma explicitly to 'auto' or 'scale' to avoid this warning.\n",
      "  \"avoid this warning.\", FutureWarning)\n"
     ]
    },
    {
     "data": {
      "text/plain": [
       "SVC(C=1.0, cache_size=200, class_weight=None, coef0=0.0,\n",
       "    decision_function_shape='ovr', degree=3, gamma='auto_deprecated',\n",
       "    kernel='rbf', max_iter=-1, probability=False, random_state=None,\n",
       "    shrinking=True, tol=0.001, verbose=False)"
      ]
     },
     "execution_count": 26,
     "metadata": {},
     "output_type": "execute_result"
    }
   ],
   "source": [
    "classifier = SVC()\n",
    "classifier.fit(X_train, y_train)"
   ]
  },
  {
   "cell_type": "code",
   "execution_count": 27,
   "metadata": {},
   "outputs": [],
   "source": [
    "y_pred = classifier.predict(X_test)"
   ]
  },
  {
   "cell_type": "code",
   "execution_count": 28,
   "metadata": {},
   "outputs": [
    {
     "data": {
      "text/plain": [
       "<matplotlib.axes._subplots.AxesSubplot at 0x28d101db508>"
      ]
     },
     "execution_count": 28,
     "metadata": {},
     "output_type": "execute_result"
    },
    {
     "data": {
      "image/png": "[encoded data removed]",
      "text/plain": [
       "<Figure size 432x288 with 2 Axes>"
      ]
     },
     "metadata": {
      "needs_background": "light"
     },
     "output_type": "display_data"
    }
   ],
   "source": [
    "cm = confusion_matrix(y_test, y_pred)\n",
    "sns.heatmap(cm, annot = True)"
   ]
  },
  {
   "cell_type": "code",
   "execution_count": 29,
   "metadata": {},
   "outputs": [
    {
     "name": "stdout",
     "output_type": "stream",
     "text": [
      "              precision    recall  f1-score   support\n",
      "\n",
      "           0       0.96      1.00      0.98        44\n",
      "           1       1.00      0.96      0.98        56\n",
      "\n",
      "    accuracy                           0.98       100\n",
      "   macro avg       0.98      0.98      0.98       100\n",
      "weighted avg       0.98      0.98      0.98       100\n",
      "\n"
     ]
    }
   ],
   "source": [
    "print(classification_report(y_test, y_pred))"
   ]
  },
  {
   "cell_type": "markdown",
   "metadata": {},
   "source": [
    "# Step 6 - Using Grid Search to tune parameters"
   ]
  },
  {
   "cell_type": "code",
   "execution_count": 30,
   "metadata": {},
   "outputs": [],
   "source": [
    "param_grid = {'C': [0.1, 1, 10, 100], 'gamma': [1, 0.1, 0.01, 0.001], 'kernel': ['rbf']}"
   ]
  },
  {
   "cell_type": "code",
   "execution_count": 31,
   "metadata": {},
   "outputs": [],
   "source": [
    "from sklearn.model_selection import GridSearchCV"
   ]
  },
  {
   "cell_type": "code",
   "execution_count": 32,
   "metadata": {},
   "outputs": [],
   "source": [
    "grid = GridSearchCV(SVC(),param_grid,refit=True,verbose=4)"
   ]
  },
  {
   "cell_type": "code",
   "execution_count": 33,
   "metadata": {},
   "outputs": [
    {
     "name": "stdout",
     "output_type": "stream",
     "text": [
      "Fitting 3 folds for each of 16 candidates, totalling 48 fits\n",
      "[CV] C=0.1, gamma=1, kernel=rbf ......................................\n",
      "[CV] .......... C=0.1, gamma=1, kernel=rbf, score=0.940, total=   0.0s\n",
      "[CV] C=0.1, gamma=1, kernel=rbf ......................................\n",
      "[CV] .......... C=0.1, gamma=1, kernel=rbf, score=0.918, total=   0.0s\n",
      "[CV] C=0.1, gamma=1, kernel=rbf ......................................\n",
      "[CV] .......... C=0.1, gamma=1, kernel=rbf, score=0.939, total=   0.0s\n",
      "[CV] C=0.1, gamma=0.1, kernel=rbf ....................................\n",
      "[CV] ........ C=0.1, gamma=0.1, kernel=rbf, score=0.940, total=   0.0s\n",
      "[CV] C=0.1, gamma=0.1, kernel=rbf ....................................\n",
      "[CV] ........ C=0.1, gamma=0.1, kernel=rbf, score=0.918, total=   0.0s\n",
      "[CV] C=0.1, gamma=0.1, kernel=rbf ....................................\n",
      "[CV] ........ C=0.1, gamma=0.1, kernel=rbf, score=0.947, total=   0.0s\n",
      "[CV] C=0.1, gamma=0.01, kernel=rbf ...................................\n",
      "[CV] ....... C=0.1, gamma=0.01, kernel=rbf, score=0.963, total=   0.0s\n",
      "[CV] C=0.1, gamma=0.01, kernel=rbf ...................................\n",
      "[CV] ....... C=0.1, gamma=0.01, kernel=rbf, score=0.910, total=   0.0s\n",
      "[CV] C=0.1, gamma=0.01, kernel=rbf ...................................\n",
      "[CV] ....... C=0.1, gamma=0.01, kernel=rbf, score=0.947, total=   0.0s\n",
      "[CV] C=0.1, gamma=0.001, kernel=rbf ..................................\n",
      "[CV] ...... C=0.1, gamma=0.001, kernel=rbf, score=0.515, total=   0.0s\n",
      "[CV] C=0.1, gamma=0.001, kernel=rbf ..................................\n",
      "[CV] ...... C=0.1, gamma=0.001, kernel=rbf, score=0.515, total=   0.0s\n",
      "[CV] C=0.1, gamma=0.001, kernel=rbf ..................................\n",
      "[CV] ...... C=0.1, gamma=0.001, kernel=rbf, score=0.515, total=   0.0s\n",
      "[CV] C=1, gamma=1, kernel=rbf ........................................\n",
      "[CV] ............ C=1, gamma=1, kernel=rbf, score=0.933, total=   0.0s\n",
      "[CV] C=1, gamma=1, kernel=rbf ........................................\n",
      "[CV] ............ C=1, gamma=1, kernel=rbf, score=0.910, total=   0.0s\n",
      "[CV] C=1, gamma=1, kernel=rbf ........................................\n",
      "[CV] ............ C=1, gamma=1, kernel=rbf, score=0.932, total=   0.0s\n",
      "[CV] C=1, gamma=0.1, kernel=rbf ......................................\n",
      "[CV] .......... C=1, gamma=0.1, kernel=rbf, score=0.940, total=   0.0s\n",
      "[CV] C=1, gamma=0.1, kernel=rbf ......................................\n",
      "[CV] .......... C=1, gamma=0.1, kernel=rbf, score=0.918, total=   0.0s\n",
      "[CV] C=1, gamma=0.1, kernel=rbf ......................................\n",
      "[CV] .......... C=1, gamma=0.1, kernel=rbf, score=0.939, total=   0.0s\n",
      "[CV] C=1, gamma=0.01, kernel=rbf .....................................\n",
      "[CV] ......... C=1, gamma=0.01, kernel=rbf, score=0.948, total=   0.0s\n",
      "[CV] C=1, gamma=0.01, kernel=rbf .....................................\n",
      "[CV] ......... C=1, gamma=0.01, kernel=rbf, score=0.918, total=   0.0s\n",
      "[CV] C=1, gamma=0.01, kernel=rbf .....................................\n",
      "[CV] ......... C=1, gamma=0.01, kernel=rbf, score=0.947, total=   0.0s\n",
      "[CV] C=1, gamma=0.001, kernel=rbf ....................................\n",
      "[CV] ........ C=1, gamma=0.001, kernel=rbf, score=0.948, total=   0.0s\n",
      "[CV] C=1, gamma=0.001, kernel=rbf ....................................\n",
      "[CV] ........ C=1, gamma=0.001, kernel=rbf, score=0.918, total=   0.0s\n",
      "[CV] C=1, gamma=0.001, kernel=rbf ....................................\n",
      "[CV] ........ C=1, gamma=0.001, kernel=rbf, score=0.924, total=   0.0s\n",
      "[CV] C=10, gamma=1, kernel=rbf .......................................\n",
      "[CV] ........... C=10, gamma=1, kernel=rbf, score=0.940, total=   0.0s\n",
      "[CV] C=10, gamma=1, kernel=rbf .......................................\n",
      "[CV] ........... C=10, gamma=1, kernel=rbf, score=0.918, total=   0.0s\n",
      "[CV] C=10, gamma=1, kernel=rbf .......................................\n",
      "[CV] ........... C=10, gamma=1, kernel=rbf, score=0.939, total=   0.0s\n",
      "[CV] C=10, gamma=0.1, kernel=rbf .....................................\n",
      "[CV] ......... C=10, gamma=0.1, kernel=rbf, score=0.918, total=   0.0s\n",
      "[CV] C=10, gamma=0.1, kernel=rbf .....................................\n",
      "[CV] ......... C=10, gamma=0.1, kernel=rbf, score=0.918, total=   0.0s\n",
      "[CV] C=10, gamma=0.1, kernel=rbf .....................................\n",
      "[CV] ......... C=10, gamma=0.1, kernel=rbf, score=0.947, total=   0.0s\n",
      "[CV] C=10, gamma=0.01, kernel=rbf ....................................\n",
      "[CV] ........ C=10, gamma=0.01, kernel=rbf, score=0.925, total=   0.0s\n",
      "[CV] C=10, gamma=0.01, kernel=rbf ....................................\n",
      "[CV] ........ C=10, gamma=0.01, kernel=rbf, score=0.918, total=   0.0s\n",
      "[CV] C=10, gamma=0.01, kernel=rbf ....................................\n",
      "[CV] ........ C=10, gamma=0.01, kernel=rbf, score=0.947, total=   0.0s\n",
      "[CV] C=10, gamma=0.001, kernel=rbf ...................................\n",
      "[CV] ....... C=10, gamma=0.001, kernel=rbf, score=0.948, total=   0.0s\n",
      "[CV] C=10, gamma=0.001, kernel=rbf ...................................\n",
      "[CV] ....... C=10, gamma=0.001, kernel=rbf, score=0.918, total=   0.0s\n",
      "[CV] C=10, gamma=0.001, kernel=rbf ...................................\n",
      "[CV] ....... C=10, gamma=0.001, kernel=rbf, score=0.947, total=   0.0s\n",
      "[CV] C=100, gamma=1, kernel=rbf ......................................\n",
      "[CV] .......... C=100, gamma=1, kernel=rbf, score=0.910, total=   0.0s\n",
      "[CV] C=100, gamma=1, kernel=rbf ......................................\n",
      "[CV] .......... C=100, gamma=1, kernel=rbf, score=0.918, total=   0.0s\n",
      "[CV] C=100, gamma=1, kernel=rbf ......................................\n",
      "[CV] .......... C=100, gamma=1, kernel=rbf, score=0.939, total=   0.0s\n",
      "[CV] C=100, gamma=0.1, kernel=rbf ....................................\n",
      "[CV] ........ C=100, gamma=0.1, kernel=rbf, score=0.925, total=   0.0s\n",
      "[CV] C=100, gamma=0.1, kernel=rbf ....................................\n",
      "[CV] ........ C=100, gamma=0.1, kernel=rbf, score=0.918, total=   0.0s\n",
      "[CV] C=100, gamma=0.1, kernel=rbf ....................................\n",
      "[CV] ........ C=100, gamma=0.1, kernel=rbf, score=0.939, total=   0.0s\n",
      "[CV] C=100, gamma=0.01, kernel=rbf ...................................\n",
      "[CV] ....... C=100, gamma=0.01, kernel=rbf, score=0.925, total=   0.0s\n",
      "[CV] C=100, gamma=0.01, kernel=rbf ...................................\n",
      "[CV] ....... C=100, gamma=0.01, kernel=rbf, score=0.910, total=   0.0s\n",
      "[CV] C=100, gamma=0.01, kernel=rbf ...................................\n",
      "[CV] ....... C=100, gamma=0.01, kernel=rbf, score=0.947, total=   0.0s\n",
      "[CV] C=100, gamma=0.001, kernel=rbf ..................................\n",
      "[CV] ...... C=100, gamma=0.001, kernel=rbf, score=0.925, total=   0.0s\n",
      "[CV] C=100, gamma=0.001, kernel=rbf ..................................\n",
      "[CV] ...... C=100, gamma=0.001, kernel=rbf, score=0.918, total=   0.0s\n",
      "[CV] C=100, gamma=0.001, kernel=rbf ..................................\n",
      "[CV] ...... C=100, gamma=0.001, kernel=rbf, score=0.947, total=   0.0s\n"
     ]
    },
    {
     "name": "stderr",
     "output_type": "stream",
     "text": [
      "C:\\Users\\17655\\Anaconda3\\lib\\site-packages\\sklearn\\model_selection\\_split.py:1978: FutureWarning: The default value of cv will change from 3 to 5 in version 0.22. Specify it explicitly to silence this warning.\n",
      "  warnings.warn(CV_WARNING, FutureWarning)\n",
      "[Parallel(n_jobs=1)]: Using backend SequentialBackend with 1 concurrent workers.\n",
      "[Parallel(n_jobs=1)]: Done   1 out of   1 | elapsed:    0.0s remaining:    0.0s\n",
      "[Parallel(n_jobs=1)]: Done   2 out of   2 | elapsed:    0.0s remaining:    0.0s\n",
      "[Parallel(n_jobs=1)]: Done   3 out of   3 | elapsed:    0.0s remaining:    0.0s\n",
      "[Parallel(n_jobs=1)]: Done  48 out of  48 | elapsed:    0.0s finished\n"
     ]
    },
    {
     "data": {
      "text/plain": [
       "GridSearchCV(cv='warn', error_score='raise-deprecating',\n",
       "             estimator=SVC(C=1.0, cache_size=200, class_weight=None, coef0=0.0,\n",
       "                           decision_function_shape='ovr', degree=3,\n",
       "                           gamma='auto_deprecated', kernel='rbf', max_iter=-1,\n",
       "                           probability=False, random_state=None, shrinking=True,\n",
       "                           tol=0.001, verbose=False),\n",
       "             iid='warn', n_jobs=None,\n",
       "             param_grid={'C': [0.1, 1, 10, 100], 'gamma': [1, 0.1, 0.01, 0.001],\n",
       "                         'kernel': ['rbf']},\n",
       "             pre_dispatch='2*n_jobs', refit=True, return_train_score=False,\n",
       "             scoring=None, verbose=4)"
      ]
     },
     "execution_count": 33,
     "metadata": {},
     "output_type": "execute_result"
    }
   ],
   "source": [
    "grid.fit(X_train,y_train)"
   ]
  },
  {
   "cell_type": "code",
   "execution_count": 34,
   "metadata": {},
   "outputs": [
    {
     "data": {
      "text/plain": [
       "{'C': 0.1, 'gamma': 0.01, 'kernel': 'rbf'}"
      ]
     },
     "execution_count": 34,
     "metadata": {},
     "output_type": "execute_result"
    }
   ],
   "source": [
    "grid.best_params_"
   ]
  },
  {
   "cell_type": "code",
   "execution_count": 35,
   "metadata": {},
   "outputs": [
    {
     "data": {
      "text/plain": [
       "SVC(C=0.1, cache_size=200, class_weight=None, coef0=0.0,\n",
       "    decision_function_shape='ovr', degree=3, gamma=0.01, kernel='rbf',\n",
       "    max_iter=-1, probability=False, random_state=None, shrinking=True,\n",
       "    tol=0.001, verbose=False)"
      ]
     },
     "execution_count": 35,
     "metadata": {},
     "output_type": "execute_result"
    }
   ],
   "source": [
    "grid.best_estimator_"
   ]
  },
  {
   "cell_type": "code",
   "execution_count": 36,
   "metadata": {},
   "outputs": [],
   "source": [
    "grid_predictions = grid.predict(X_test)"
   ]
  },
  {
   "cell_type": "code",
   "execution_count": 37,
   "metadata": {},
   "outputs": [],
   "source": [
    "cm = confusion_matrix(y_test, grid_predictions)"
   ]
  },
  {
   "cell_type": "code",
   "execution_count": 38,
   "metadata": {},
   "outputs": [
    {
     "data": {
      "text/plain": [
       "<matplotlib.axes._subplots.AxesSubplot at 0x28d11059f08>"
      ]
     },
     "execution_count": 38,
     "metadata": {},
     "output_type": "execute_result"
    },
    {
     "data": {
      "image/png": "[encoded data removed]",
      "text/plain": [
       "<Figure size 432x288 with 2 Axes>"
      ]
     },
     "metadata": {
      "needs_background": "light"
     },
     "output_type": "display_data"
    }
   ],
   "source": [
    "sns.heatmap(cm, annot=True)"
   ]
  },
  {
   "cell_type": "code",
   "execution_count": 39,
   "metadata": {},
   "outputs": [
    {
     "name": "stdout",
     "output_type": "stream",
     "text": [
      "Accuracy =  98.0 %\n"
     ]
    }
   ],
   "source": [
    "print(\"Accuracy = \", (cm[0,0]+cm[1,1])/(cm[0,0]+cm[0,1]+cm[1,0]+cm[1,1]) * 100, \"%\")"
   ]
  }
 ],
 "metadata": {
  "kernelspec": {
   "display_name": "Python 3",
   "language": "python",
   "name": "python3"
  },
  "language_info": {
   "codemirror_mode": {
    "name": "ipython",
    "version": 3
   },
   "file_extension": ".py",
   "mimetype": "text/x-python",
   "name": "python",
   "nbconvert_exporter": "python",
   "pygments_lexer": "ipython3",
   "version": "3.7.4"
  }
 },
 "nbformat": 4,
 "nbformat_minor": 2
}
